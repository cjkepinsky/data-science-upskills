{
 "cells": [
  {
   "cell_type": "code",
   "execution_count": 39,
   "metadata": {},
   "outputs": [
    {
     "name": "stdout",
     "output_type": "stream",
     "text": [
      "           id             date     price  bedrooms  bathrooms  sqft_living  \\\n",
      "0  7129300520  20141013T000000  221900.0         3       1.00         1180   \n",
      "1  6414100192  20141209T000000  538000.0         3       2.25         2570   \n",
      "2  5631500400  20150225T000000  180000.0         2       1.00          770   \n",
      "3  2487200875  20141209T000000  604000.0         4       3.00         1960   \n",
      "4  1954400510  20150218T000000  510000.0         3       2.00         1680   \n",
      "\n",
      "   sqft_lot  floors  waterfront  view  ...  grade  sqft_above  sqft_basement  \\\n",
      "0      5650     1.0           0     0  ...      7        1180              0   \n",
      "1      7242     2.0           0     0  ...      7        2170            400   \n",
      "2     10000     1.0           0     0  ...      6         770              0   \n",
      "3      5000     1.0           0     0  ...      7        1050            910   \n",
      "4      8080     1.0           0     0  ...      8        1680              0   \n",
      "\n",
      "   yr_built  yr_renovated  zipcode      lat     long  sqft_living15  \\\n",
      "0      1955             0    98178  47.5112 -122.257           1340   \n",
      "1      1951          1991    98125  47.7210 -122.319           1690   \n",
      "2      1933             0    98028  47.7379 -122.233           2720   \n",
      "3      1965             0    98136  47.5208 -122.393           1360   \n",
      "4      1987             0    98074  47.6168 -122.045           1800   \n",
      "\n",
      "   sqft_lot15  \n",
      "0        5650  \n",
      "1        7639  \n",
      "2        8062  \n",
      "3        5000  \n",
      "4        7503  \n",
      "\n",
      "[5 rows x 21 columns]\n",
      "id                 int64\n",
      "date              object\n",
      "price            float64\n",
      "bedrooms           int64\n",
      "bathrooms        float64\n",
      "sqft_living        int64\n",
      "sqft_lot           int64\n",
      "floors           float64\n",
      "waterfront         int64\n",
      "view               int64\n",
      "condition          int64\n",
      "grade              int64\n",
      "sqft_above         int64\n",
      "sqft_basement      int64\n",
      "yr_built           int64\n",
      "yr_renovated       int64\n",
      "zipcode            int64\n",
      "lat              float64\n",
      "long             float64\n",
      "sqft_living15      int64\n",
      "sqft_lot15         int64\n",
      "dtype: object\n"
     ]
    },
    {
     "data": {
      "text/plain": "                 count          mean           std           min  \\\nid             21613.0  4.580302e+09  2.876566e+09  1.000102e+06   \nprice          21613.0  5.400881e+05  3.671272e+05  7.500000e+04   \nbedrooms       21613.0  3.370842e+00  9.300618e-01  0.000000e+00   \nbathrooms      21613.0  2.114757e+00  7.701632e-01  0.000000e+00   \nsqft_living    21613.0  2.079900e+03  9.184409e+02  2.900000e+02   \nsqft_lot       21613.0  1.510697e+04  4.142051e+04  5.200000e+02   \nfloors         21613.0  1.494309e+00  5.399889e-01  1.000000e+00   \nwaterfront     21613.0  7.541757e-03  8.651720e-02  0.000000e+00   \nview           21613.0  2.343034e-01  7.663176e-01  0.000000e+00   \ncondition      21613.0  3.409430e+00  6.507430e-01  1.000000e+00   \ngrade          21613.0  7.656873e+00  1.175459e+00  1.000000e+00   \nsqft_above     21613.0  1.788391e+03  8.280910e+02  2.900000e+02   \nsqft_basement  21613.0  2.915090e+02  4.425750e+02  0.000000e+00   \nyr_built       21613.0  1.971005e+03  2.937341e+01  1.900000e+03   \nyr_renovated   21613.0  8.440226e+01  4.016792e+02  0.000000e+00   \nzipcode        21613.0  9.807794e+04  5.350503e+01  9.800100e+04   \nlat            21613.0  4.756005e+01  1.385637e-01  4.715590e+01   \nlong           21613.0 -1.222139e+02  1.408283e-01 -1.225190e+02   \nsqft_living15  21613.0  1.986552e+03  6.853913e+02  3.990000e+02   \nsqft_lot15     21613.0  1.276846e+04  2.730418e+04  6.510000e+02   \n\n                        25%           50%           75%           max  \nid             2.123049e+09  3.904930e+09  7.308900e+09  9.900000e+09  \nprice          3.219500e+05  4.500000e+05  6.450000e+05  7.700000e+06  \nbedrooms       3.000000e+00  3.000000e+00  4.000000e+00  3.300000e+01  \nbathrooms      1.750000e+00  2.250000e+00  2.500000e+00  8.000000e+00  \nsqft_living    1.427000e+03  1.910000e+03  2.550000e+03  1.354000e+04  \nsqft_lot       5.040000e+03  7.618000e+03  1.068800e+04  1.651359e+06  \nfloors         1.000000e+00  1.500000e+00  2.000000e+00  3.500000e+00  \nwaterfront     0.000000e+00  0.000000e+00  0.000000e+00  1.000000e+00  \nview           0.000000e+00  0.000000e+00  0.000000e+00  4.000000e+00  \ncondition      3.000000e+00  3.000000e+00  4.000000e+00  5.000000e+00  \ngrade          7.000000e+00  7.000000e+00  8.000000e+00  1.300000e+01  \nsqft_above     1.190000e+03  1.560000e+03  2.210000e+03  9.410000e+03  \nsqft_basement  0.000000e+00  0.000000e+00  5.600000e+02  4.820000e+03  \nyr_built       1.951000e+03  1.975000e+03  1.997000e+03  2.015000e+03  \nyr_renovated   0.000000e+00  0.000000e+00  0.000000e+00  2.015000e+03  \nzipcode        9.803300e+04  9.806500e+04  9.811800e+04  9.819900e+04  \nlat            4.747100e+01  4.757180e+01  4.767800e+01  4.777760e+01  \nlong          -1.223280e+02 -1.222300e+02 -1.221250e+02 -1.213150e+02  \nsqft_living15  1.490000e+03  1.840000e+03  2.360000e+03  6.210000e+03  \nsqft_lot15     5.100000e+03  7.620000e+03  1.008300e+04  8.712000e+05  ",
      "text/html": "<div>\n<style scoped>\n    .dataframe tbody tr th:only-of-type {\n        vertical-align: middle;\n    }\n\n    .dataframe tbody tr th {\n        vertical-align: top;\n    }\n\n    .dataframe thead th {\n        text-align: right;\n    }\n</style>\n<table border=\"1\" class=\"dataframe\">\n  <thead>\n    <tr style=\"text-align: right;\">\n      <th></th>\n      <th>count</th>\n      <th>mean</th>\n      <th>std</th>\n      <th>min</th>\n      <th>25%</th>\n      <th>50%</th>\n      <th>75%</th>\n      <th>max</th>\n    </tr>\n  </thead>\n  <tbody>\n    <tr>\n      <th>id</th>\n      <td>21613.0</td>\n      <td>4.580302e+09</td>\n      <td>2.876566e+09</td>\n      <td>1.000102e+06</td>\n      <td>2.123049e+09</td>\n      <td>3.904930e+09</td>\n      <td>7.308900e+09</td>\n      <td>9.900000e+09</td>\n    </tr>\n    <tr>\n      <th>price</th>\n      <td>21613.0</td>\n      <td>5.400881e+05</td>\n      <td>3.671272e+05</td>\n      <td>7.500000e+04</td>\n      <td>3.219500e+05</td>\n      <td>4.500000e+05</td>\n      <td>6.450000e+05</td>\n      <td>7.700000e+06</td>\n    </tr>\n    <tr>\n      <th>bedrooms</th>\n      <td>21613.0</td>\n      <td>3.370842e+00</td>\n      <td>9.300618e-01</td>\n      <td>0.000000e+00</td>\n      <td>3.000000e+00</td>\n      <td>3.000000e+00</td>\n      <td>4.000000e+00</td>\n      <td>3.300000e+01</td>\n    </tr>\n    <tr>\n      <th>bathrooms</th>\n      <td>21613.0</td>\n      <td>2.114757e+00</td>\n      <td>7.701632e-01</td>\n      <td>0.000000e+00</td>\n      <td>1.750000e+00</td>\n      <td>2.250000e+00</td>\n      <td>2.500000e+00</td>\n      <td>8.000000e+00</td>\n    </tr>\n    <tr>\n      <th>sqft_living</th>\n      <td>21613.0</td>\n      <td>2.079900e+03</td>\n      <td>9.184409e+02</td>\n      <td>2.900000e+02</td>\n      <td>1.427000e+03</td>\n      <td>1.910000e+03</td>\n      <td>2.550000e+03</td>\n      <td>1.354000e+04</td>\n    </tr>\n    <tr>\n      <th>sqft_lot</th>\n      <td>21613.0</td>\n      <td>1.510697e+04</td>\n      <td>4.142051e+04</td>\n      <td>5.200000e+02</td>\n      <td>5.040000e+03</td>\n      <td>7.618000e+03</td>\n      <td>1.068800e+04</td>\n      <td>1.651359e+06</td>\n    </tr>\n    <tr>\n      <th>floors</th>\n      <td>21613.0</td>\n      <td>1.494309e+00</td>\n      <td>5.399889e-01</td>\n      <td>1.000000e+00</td>\n      <td>1.000000e+00</td>\n      <td>1.500000e+00</td>\n      <td>2.000000e+00</td>\n      <td>3.500000e+00</td>\n    </tr>\n    <tr>\n      <th>waterfront</th>\n      <td>21613.0</td>\n      <td>7.541757e-03</td>\n      <td>8.651720e-02</td>\n      <td>0.000000e+00</td>\n      <td>0.000000e+00</td>\n      <td>0.000000e+00</td>\n      <td>0.000000e+00</td>\n      <td>1.000000e+00</td>\n    </tr>\n    <tr>\n      <th>view</th>\n      <td>21613.0</td>\n      <td>2.343034e-01</td>\n      <td>7.663176e-01</td>\n      <td>0.000000e+00</td>\n      <td>0.000000e+00</td>\n      <td>0.000000e+00</td>\n      <td>0.000000e+00</td>\n      <td>4.000000e+00</td>\n    </tr>\n    <tr>\n      <th>condition</th>\n      <td>21613.0</td>\n      <td>3.409430e+00</td>\n      <td>6.507430e-01</td>\n      <td>1.000000e+00</td>\n      <td>3.000000e+00</td>\n      <td>3.000000e+00</td>\n      <td>4.000000e+00</td>\n      <td>5.000000e+00</td>\n    </tr>\n    <tr>\n      <th>grade</th>\n      <td>21613.0</td>\n      <td>7.656873e+00</td>\n      <td>1.175459e+00</td>\n      <td>1.000000e+00</td>\n      <td>7.000000e+00</td>\n      <td>7.000000e+00</td>\n      <td>8.000000e+00</td>\n      <td>1.300000e+01</td>\n    </tr>\n    <tr>\n      <th>sqft_above</th>\n      <td>21613.0</td>\n      <td>1.788391e+03</td>\n      <td>8.280910e+02</td>\n      <td>2.900000e+02</td>\n      <td>1.190000e+03</td>\n      <td>1.560000e+03</td>\n      <td>2.210000e+03</td>\n      <td>9.410000e+03</td>\n    </tr>\n    <tr>\n      <th>sqft_basement</th>\n      <td>21613.0</td>\n      <td>2.915090e+02</td>\n      <td>4.425750e+02</td>\n      <td>0.000000e+00</td>\n      <td>0.000000e+00</td>\n      <td>0.000000e+00</td>\n      <td>5.600000e+02</td>\n      <td>4.820000e+03</td>\n    </tr>\n    <tr>\n      <th>yr_built</th>\n      <td>21613.0</td>\n      <td>1.971005e+03</td>\n      <td>2.937341e+01</td>\n      <td>1.900000e+03</td>\n      <td>1.951000e+03</td>\n      <td>1.975000e+03</td>\n      <td>1.997000e+03</td>\n      <td>2.015000e+03</td>\n    </tr>\n    <tr>\n      <th>yr_renovated</th>\n      <td>21613.0</td>\n      <td>8.440226e+01</td>\n      <td>4.016792e+02</td>\n      <td>0.000000e+00</td>\n      <td>0.000000e+00</td>\n      <td>0.000000e+00</td>\n      <td>0.000000e+00</td>\n      <td>2.015000e+03</td>\n    </tr>\n    <tr>\n      <th>zipcode</th>\n      <td>21613.0</td>\n      <td>9.807794e+04</td>\n      <td>5.350503e+01</td>\n      <td>9.800100e+04</td>\n      <td>9.803300e+04</td>\n      <td>9.806500e+04</td>\n      <td>9.811800e+04</td>\n      <td>9.819900e+04</td>\n    </tr>\n    <tr>\n      <th>lat</th>\n      <td>21613.0</td>\n      <td>4.756005e+01</td>\n      <td>1.385637e-01</td>\n      <td>4.715590e+01</td>\n      <td>4.747100e+01</td>\n      <td>4.757180e+01</td>\n      <td>4.767800e+01</td>\n      <td>4.777760e+01</td>\n    </tr>\n    <tr>\n      <th>long</th>\n      <td>21613.0</td>\n      <td>-1.222139e+02</td>\n      <td>1.408283e-01</td>\n      <td>-1.225190e+02</td>\n      <td>-1.223280e+02</td>\n      <td>-1.222300e+02</td>\n      <td>-1.221250e+02</td>\n      <td>-1.213150e+02</td>\n    </tr>\n    <tr>\n      <th>sqft_living15</th>\n      <td>21613.0</td>\n      <td>1.986552e+03</td>\n      <td>6.853913e+02</td>\n      <td>3.990000e+02</td>\n      <td>1.490000e+03</td>\n      <td>1.840000e+03</td>\n      <td>2.360000e+03</td>\n      <td>6.210000e+03</td>\n    </tr>\n    <tr>\n      <th>sqft_lot15</th>\n      <td>21613.0</td>\n      <td>1.276846e+04</td>\n      <td>2.730418e+04</td>\n      <td>6.510000e+02</td>\n      <td>5.100000e+03</td>\n      <td>7.620000e+03</td>\n      <td>1.008300e+04</td>\n      <td>8.712000e+05</td>\n    </tr>\n  </tbody>\n</table>\n</div>"
     },
     "execution_count": 39,
     "metadata": {},
     "output_type": "execute_result"
    }
   ],
   "source": [
    "# Let's run the preprocessing on both train and test data\n",
    "from libs.simple_processing import normalize, normalize_cols, separate_target, dropna_rows, remove_columns\n",
    "import pandas as pd # data processing, CSV file I/O (e.g. pd.read_csv)\n",
    "from constants import raw_data, preprocessed_data\n",
    "\n",
    "DATA = pd.read_csv(raw_data)\n",
    "print(DATA.head())\n",
    "print(DATA.dtypes)\n",
    "DATA.describe().transpose()\n"
   ]
  },
  {
   "cell_type": "code",
   "execution_count": 40,
   "metadata": {},
   "outputs": [
    {
     "name": "stdout",
     "output_type": "stream",
     "text": [
      "date              object\n",
      "price            float64\n",
      "bedrooms           int64\n",
      "bathrooms        float64\n",
      "sqft_living        int64\n",
      "sqft_lot           int64\n",
      "floors           float64\n",
      "waterfront         int64\n",
      "view               int64\n",
      "condition          int64\n",
      "grade              int64\n",
      "sqft_above         int64\n",
      "sqft_basement      int64\n",
      "yr_built           int64\n",
      "yr_renovated       int64\n",
      "zipcode            int64\n",
      "lat              float64\n",
      "long             float64\n",
      "sqft_living15      int64\n",
      "sqft_lot15         int64\n",
      "dtype: object\n"
     ]
    }
   ],
   "source": [
    "\n",
    "DATA = DATA.drop('id', axis='columns')\n",
    "\n",
    "print(DATA.dtypes)"
   ]
  },
  {
   "cell_type": "code",
   "execution_count": 41,
   "outputs": [
    {
     "name": "stdout",
     "output_type": "stream",
     "text": [
      "(21613, 20)\n",
      "Done\n"
     ]
    }
   ],
   "source": [
    "# DATA['date'] = pd.to_datetime(DATA['date'], format='%Y%m%d')\n",
    "# print(DATA.date.month)\n",
    "# DATA['date'] = datetime.strptime(DATA.date.astype(\"string\"), '%Y%m%dT%H%M%SZ')\n",
    "# DATA['date'] = pd.to_datetime(DATA.date.astype(\"string\"))\n",
    "\n",
    "DATA.date = pd.to_datetime(DATA.date)\n",
    "print(DATA.shape)\n",
    "\n",
    "# DATA['month'] = DATA.date.apply(lambda date:date.month)\n",
    "# DATA['year'] = DATA.date.apply(lambda date:date.year)\n",
    "DATA = DATA.drop('date', axis='columns')\n",
    "# DATA = DATA.drop('zipcode', axis='columns')\n",
    "print(\"Done\")\n"
   ],
   "metadata": {
    "collapsed": false
   }
  },
  {
   "cell_type": "code",
   "execution_count": 42,
   "metadata": {},
   "outputs": [
    {
     "name": "stdout",
     "output_type": "stream",
     "text": [
      "(21613, 19)\n",
      "      price  bedrooms  bathrooms  sqft_living  sqft_lot  floors  waterfront  \\\n",
      "0  221900.0         3       1.00         1180      5650     1.0           0   \n",
      "1  538000.0         3       2.25         2570      7242     2.0           0   \n",
      "2  180000.0         2       1.00          770     10000     1.0           0   \n",
      "3  604000.0         4       3.00         1960      5000     1.0           0   \n",
      "4  510000.0         3       2.00         1680      8080     1.0           0   \n",
      "\n",
      "   view  condition  grade  sqft_above  sqft_basement  yr_built  yr_renovated  \\\n",
      "0     0          3      7        1180              0      1955             0   \n",
      "1     0          3      7        2170            400      1951          1991   \n",
      "2     0          3      6         770              0      1933             0   \n",
      "3     0          5      7        1050            910      1965             0   \n",
      "4     0          3      8        1680              0      1987             0   \n",
      "\n",
      "   zipcode      lat     long  sqft_living15  sqft_lot15  \n",
      "0    98178  47.5112 -122.257           1340        5650  \n",
      "1    98125  47.7210 -122.319           1690        7639  \n",
      "2    98028  47.7379 -122.233           2720        8062  \n",
      "3    98136  47.5208 -122.393           1360        5000  \n",
      "4    98074  47.6168 -122.045           1800        7503  \n"
     ]
    }
   ],
   "source": [
    "print(DATA.shape)\n",
    "print(DATA.head())"
   ]
  },
  {
   "cell_type": "code",
   "execution_count": 43,
   "metadata": {},
   "outputs": [
    {
     "name": "stdout",
     "output_type": "stream",
     "text": [
      "Done\n"
     ]
    }
   ],
   "source": [
    "DATA.to_csv(preprocessed_data, index=False)\n",
    "\n",
    "print(\"Done\")"
   ]
  }
 ],
 "metadata": {
  "kernelspec": {
   "display_name": "Python 3 (ipykernel)",
   "language": "python",
   "name": "python3"
  },
  "language_info": {
   "codemirror_mode": {
    "name": "ipython",
    "version": 3
   },
   "file_extension": ".py",
   "mimetype": "text/x-python",
   "name": "python",
   "nbconvert_exporter": "python",
   "pygments_lexer": "ipython3",
   "version": "3.9.7"
  }
 },
 "nbformat": 4,
 "nbformat_minor": 1
}
