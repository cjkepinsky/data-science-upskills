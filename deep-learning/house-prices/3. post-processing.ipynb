{
 "cells": [
  {
   "cell_type": "code",
   "execution_count": 4,
   "metadata": {
    "collapsed": true
   },
   "outputs": [
    {
     "name": "stdout",
     "output_type": "stream",
     "text": [
      "   bedrooms  bathrooms  sqft_living  sqft_lot  floors  waterfront  view  \\\n",
      "0  0.090909    0.12500     0.067170  0.003108     0.0         0.0   0.0   \n",
      "1  0.090909    0.28125     0.172075  0.004072     0.4         0.0   0.0   \n",
      "2  0.060606    0.12500     0.036226  0.005743     0.0         0.0   0.0   \n",
      "3  0.121212    0.37500     0.126038  0.002714     0.0         0.0   0.0   \n",
      "4  0.090909    0.25000     0.104906  0.004579     0.0         0.0   0.0   \n",
      "\n",
      "   condition     grade  sqft_above  sqft_basement  yr_built  yr_renovated  \\\n",
      "0        0.5  0.500000    0.097588       0.000000  0.478261      0.000000   \n",
      "1        0.5  0.500000    0.206140       0.082988  0.443478      0.988089   \n",
      "2        0.5  0.416667    0.052632       0.000000  0.286957      0.000000   \n",
      "3        1.0  0.500000    0.083333       0.188797  0.565217      0.000000   \n",
      "4        0.5  0.583333    0.152412       0.000000  0.756522      0.000000   \n",
      "\n",
      "    zipcode       lat      long  sqft_living15  sqft_lot15  \n",
      "0  0.893939  0.571498  0.217608       0.161934    0.005742  \n",
      "1  0.626263  0.908959  0.166113       0.222165    0.008027  \n",
      "2  0.136364  0.936143  0.237542       0.399415    0.008513  \n",
      "3  0.681818  0.586939  0.104651       0.165376    0.004996  \n",
      "4  0.368687  0.741354  0.393688       0.241094    0.007871  \n",
      "Done.\n"
     ]
    }
   ],
   "source": [
    "from constants import target_name, x_path, y_path\n",
    "from libs.simple_processing import separate_target, normalize\n",
    "import pandas as pd\n",
    "from constants import preprocessed_data\n",
    "\n",
    "DATA = pd.read_csv(preprocessed_data)\n",
    "\n",
    "X, y = separate_target(DATA, target_name)\n",
    "\n",
    "X = normalize(X)\n",
    "\n",
    "X.to_csv(x_path, index=False)\n",
    "y.to_csv(y_path, index=False)\n",
    "print(X.head())\n",
    "\n",
    "print(\"Done.\")"
   ]
  }
 ],
 "metadata": {
  "kernelspec": {
   "display_name": "Python 3",
   "language": "python",
   "name": "python3"
  },
  "language_info": {
   "codemirror_mode": {
    "name": "ipython",
    "version": 2
   },
   "file_extension": ".py",
   "mimetype": "text/x-python",
   "name": "python",
   "nbconvert_exporter": "python",
   "pygments_lexer": "ipython2",
   "version": "2.7.6"
  }
 },
 "nbformat": 4,
 "nbformat_minor": 0
}
