{
 "cells": [
  {
   "cell_type": "code",
   "execution_count": 4,
   "metadata": {
    "collapsed": true,
    "pycharm": {
     "name": "#%%\n"
    }
   },
   "outputs": [
    {
     "data": {
      "text/plain": "   bedrooms  bathrooms  sqft_living  sqft_lot  floors  waterfront  view  \\\n0  0.090909    0.12500     0.067170  0.003108     0.0         0.0   0.0   \n1  0.090909    0.28125     0.172075  0.004072     0.4         0.0   0.0   \n2  0.060606    0.12500     0.036226  0.005743     0.0         0.0   0.0   \n3  0.121212    0.37500     0.126038  0.002714     0.0         0.0   0.0   \n4  0.090909    0.25000     0.104906  0.004579     0.0         0.0   0.0   \n\n   condition     grade  sqft_above  sqft_basement  yr_built  yr_renovated  \\\n0        0.5  0.500000    0.097588       0.000000  0.478261      0.000000   \n1        0.5  0.500000    0.206140       0.082988  0.443478      0.988089   \n2        0.5  0.416667    0.052632       0.000000  0.286957      0.000000   \n3        1.0  0.500000    0.083333       0.188797  0.565217      0.000000   \n4        0.5  0.583333    0.152412       0.000000  0.756522      0.000000   \n\n    zipcode       lat      long  sqft_living15  sqft_lot15  \n0  0.893939  0.571498  0.217608       0.161934    0.005742  \n1  0.626263  0.908959  0.166113       0.222165    0.008027  \n2  0.136364  0.936143  0.237542       0.399415    0.008513  \n3  0.681818  0.586939  0.104651       0.165376    0.004996  \n4  0.368687  0.741354  0.393688       0.241094    0.007871  ",
      "text/html": "<div>\n<style scoped>\n    .dataframe tbody tr th:only-of-type {\n        vertical-align: middle;\n    }\n\n    .dataframe tbody tr th {\n        vertical-align: top;\n    }\n\n    .dataframe thead th {\n        text-align: right;\n    }\n</style>\n<table border=\"1\" class=\"dataframe\">\n  <thead>\n    <tr style=\"text-align: right;\">\n      <th></th>\n      <th>bedrooms</th>\n      <th>bathrooms</th>\n      <th>sqft_living</th>\n      <th>sqft_lot</th>\n      <th>floors</th>\n      <th>waterfront</th>\n      <th>view</th>\n      <th>condition</th>\n      <th>grade</th>\n      <th>sqft_above</th>\n      <th>sqft_basement</th>\n      <th>yr_built</th>\n      <th>yr_renovated</th>\n      <th>zipcode</th>\n      <th>lat</th>\n      <th>long</th>\n      <th>sqft_living15</th>\n      <th>sqft_lot15</th>\n    </tr>\n  </thead>\n  <tbody>\n    <tr>\n      <th>0</th>\n      <td>0.090909</td>\n      <td>0.12500</td>\n      <td>0.067170</td>\n      <td>0.003108</td>\n      <td>0.0</td>\n      <td>0.0</td>\n      <td>0.0</td>\n      <td>0.5</td>\n      <td>0.500000</td>\n      <td>0.097588</td>\n      <td>0.000000</td>\n      <td>0.478261</td>\n      <td>0.000000</td>\n      <td>0.893939</td>\n      <td>0.571498</td>\n      <td>0.217608</td>\n      <td>0.161934</td>\n      <td>0.005742</td>\n    </tr>\n    <tr>\n      <th>1</th>\n      <td>0.090909</td>\n      <td>0.28125</td>\n      <td>0.172075</td>\n      <td>0.004072</td>\n      <td>0.4</td>\n      <td>0.0</td>\n      <td>0.0</td>\n      <td>0.5</td>\n      <td>0.500000</td>\n      <td>0.206140</td>\n      <td>0.082988</td>\n      <td>0.443478</td>\n      <td>0.988089</td>\n      <td>0.626263</td>\n      <td>0.908959</td>\n      <td>0.166113</td>\n      <td>0.222165</td>\n      <td>0.008027</td>\n    </tr>\n    <tr>\n      <th>2</th>\n      <td>0.060606</td>\n      <td>0.12500</td>\n      <td>0.036226</td>\n      <td>0.005743</td>\n      <td>0.0</td>\n      <td>0.0</td>\n      <td>0.0</td>\n      <td>0.5</td>\n      <td>0.416667</td>\n      <td>0.052632</td>\n      <td>0.000000</td>\n      <td>0.286957</td>\n      <td>0.000000</td>\n      <td>0.136364</td>\n      <td>0.936143</td>\n      <td>0.237542</td>\n      <td>0.399415</td>\n      <td>0.008513</td>\n    </tr>\n    <tr>\n      <th>3</th>\n      <td>0.121212</td>\n      <td>0.37500</td>\n      <td>0.126038</td>\n      <td>0.002714</td>\n      <td>0.0</td>\n      <td>0.0</td>\n      <td>0.0</td>\n      <td>1.0</td>\n      <td>0.500000</td>\n      <td>0.083333</td>\n      <td>0.188797</td>\n      <td>0.565217</td>\n      <td>0.000000</td>\n      <td>0.681818</td>\n      <td>0.586939</td>\n      <td>0.104651</td>\n      <td>0.165376</td>\n      <td>0.004996</td>\n    </tr>\n    <tr>\n      <th>4</th>\n      <td>0.090909</td>\n      <td>0.25000</td>\n      <td>0.104906</td>\n      <td>0.004579</td>\n      <td>0.0</td>\n      <td>0.0</td>\n      <td>0.0</td>\n      <td>0.5</td>\n      <td>0.583333</td>\n      <td>0.152412</td>\n      <td>0.000000</td>\n      <td>0.756522</td>\n      <td>0.000000</td>\n      <td>0.368687</td>\n      <td>0.741354</td>\n      <td>0.393688</td>\n      <td>0.241094</td>\n      <td>0.007871</td>\n    </tr>\n  </tbody>\n</table>\n</div>"
     },
     "execution_count": 4,
     "metadata": {},
     "output_type": "execute_result"
    }
   ],
   "source": [
    "from libs.simple_hyper_tuner import quick_gridsearchcv_overview\n",
    "from constants import source_path, target_name, x_path, y_path\n",
    "import pandas as pd # data processing, CSV file I/O (e.g. pd.read_csv)\n",
    "\n",
    "X = pd.read_csv(x_path)\n",
    "y = pd.read_csv(y_path)\n",
    "\n",
    "X.head()"
   ]
  },
  {
   "cell_type": "code",
   "execution_count": 3,
   "outputs": [
    {
     "data": {
      "text/plain": "      price\n0  221900.0\n1  538000.0\n2  180000.0\n3  604000.0\n4  510000.0",
      "text/html": "<div>\n<style scoped>\n    .dataframe tbody tr th:only-of-type {\n        vertical-align: middle;\n    }\n\n    .dataframe tbody tr th {\n        vertical-align: top;\n    }\n\n    .dataframe thead th {\n        text-align: right;\n    }\n</style>\n<table border=\"1\" class=\"dataframe\">\n  <thead>\n    <tr style=\"text-align: right;\">\n      <th></th>\n      <th>price</th>\n    </tr>\n  </thead>\n  <tbody>\n    <tr>\n      <th>0</th>\n      <td>221900.0</td>\n    </tr>\n    <tr>\n      <th>1</th>\n      <td>538000.0</td>\n    </tr>\n    <tr>\n      <th>2</th>\n      <td>180000.0</td>\n    </tr>\n    <tr>\n      <th>3</th>\n      <td>604000.0</td>\n    </tr>\n    <tr>\n      <th>4</th>\n      <td>510000.0</td>\n    </tr>\n  </tbody>\n</table>\n</div>"
     },
     "execution_count": 3,
     "metadata": {},
     "output_type": "execute_result"
    }
   ],
   "source": [
    "y.head()"
   ],
   "metadata": {
    "collapsed": false,
    "pycharm": {
     "name": "#%%\n"
    }
   }
  },
  {
   "cell_type": "code",
   "execution_count": null,
   "outputs": [],
   "source": [],
   "metadata": {
    "collapsed": false,
    "pycharm": {
     "name": "#%%\n"
    }
   }
  }
 ],
 "metadata": {
  "kernelspec": {
   "display_name": "Python 3",
   "language": "python",
   "name": "python3"
  },
  "language_info": {
   "codemirror_mode": {
    "name": "ipython",
    "version": 2
   },
   "file_extension": ".py",
   "mimetype": "text/x-python",
   "name": "python",
   "nbconvert_exporter": "python",
   "pygments_lexer": "ipython2",
   "version": "2.7.6"
  }
 },
 "nbformat": 4,
 "nbformat_minor": 0
}